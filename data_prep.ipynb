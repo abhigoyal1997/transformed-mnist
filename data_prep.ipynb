{
 "cells": [
  {
   "cell_type": "code",
   "execution_count": null,
   "metadata": {},
   "outputs": [],
   "source": [
    "import numpy as np\n",
    "import pandas as pd\n",
    "import matplotlib.pyplot as plt\n",
    "import cv2 as cv\n",
    "\n",
    "import os"
   ]
  },
  {
   "cell_type": "code",
   "execution_count": null,
   "metadata": {},
   "outputs": [],
   "source": [
    "def imshow(img, title=None):\n",
    "    plt.imshow(img/(np.max(img)-np.min(img)))\n",
    "    if title is not None:\n",
    "        plt.title(title)\n",
    "    plt.show()"
   ]
  },
  {
   "cell_type": "code",
   "execution_count": null,
   "metadata": {},
   "outputs": [],
   "source": [
    "data = pd.read_csv('mnist/mnist_test.csv')"
   ]
  },
  {
   "cell_type": "code",
   "execution_count": null,
   "metadata": {},
   "outputs": [],
   "source": [
    "def read_csv(train_file, test_file, data_dir='data/'):\n",
    "    train_data = pd.read_csv(train_file)\n",
    "    test_data = pd.read_csv(test_file)\n",
    "\n",
    "    x_train = train_data.values[:,1:].reshape((-1,28,28))\n",
    "    y_train = np.asarray(train_data['label'])\n",
    "\n",
    "    x_test = test_data.values[:,1:].reshape((-1,28,28))\n",
    "    y_test = np.asarray(test_data['label'])\n",
    "\n",
    "    return x_train.astype(np.float), y_train, x_test.astype(np.float), y_test"
   ]
  },
  {
   "cell_type": "code",
   "execution_count": null,
   "metadata": {},
   "outputs": [],
   "source": [
    "def transform(x, size=(256, 256)):\n",
    "    x_new = np.zeros(size)\n",
    "    h = np.random.randint(x.shape[0]/2,x.shape[0]*3,1)\n",
    "    w = np.random.randint(x.shape[1]/2,x.shape[1]*3,1)\n",
    "    \n",
    "    x = cv.resize(x, (h,w))\n",
    "    l = np.random.randint(0, size[1]-w,1)\n",
    "    u = np.random.randint(0, size[0]-h,1)\n",
    "    \n",
    "    x_new[l[0]:l[0]+w[0], u[0]:u[0]+h[0]] = x\n",
    "    return x_new"
   ]
  },
  {
   "cell_type": "code",
   "execution_count": null,
   "metadata": {},
   "outputs": [],
   "source": [
    "x_train, y_train, x_test, y_test = read_csv('mnist/mnist_train.csv', 'mnist/mnist_test.csv')"
   ]
  },
  {
   "cell_type": "code",
   "execution_count": null,
   "metadata": {},
   "outputs": [],
   "source": [
    "size = (128,128)\n",
    "x_train_new = np.empty((x_train.shape[0], *size))\n",
    "x_test_new = np.empty((x_test.shape[0], *size))"
   ]
  },
  {
   "cell_type": "code",
   "execution_count": null,
   "metadata": {},
   "outputs": [],
   "source": [
    "train_small = 8000\n",
    "val_small = 2000\n",
    "test_small = 2000"
   ]
  },
  {
   "cell_type": "code",
   "execution_count": null,
   "metadata": {},
   "outputs": [],
   "source": [
    "for i in range(x_train.shape[0]):\n",
    "    x_train_new[i, :, :] = transform(x_train[i, :, :], size=size)"
   ]
  },
  {
   "cell_type": "code",
   "execution_count": null,
   "metadata": {},
   "outputs": [],
   "source": [
    "train_val_idx = np.random.choice(range(x_train.shape[0]), size=train_small+val_small)"
   ]
  },
  {
   "cell_type": "code",
   "execution_count": null,
   "metadata": {},
   "outputs": [],
   "source": [
    "np.savez('data/train_small',x=x_train_new[train_val_idx[:train_small]],y=y_train[train_val_idx[:train_small]])\n",
    "np.savez('data/val_small',x=x_train_new[train_val_idx[train_small:train_small+val_small]],y=y_train[train_val_idx[train_small:train_small+val_small]])"
   ]
  },
  {
   "cell_type": "code",
   "execution_count": null,
   "metadata": {},
   "outputs": [],
   "source": [
    "train_val_idx[train_small+val_small]"
   ]
  },
  {
   "cell_type": "code",
   "execution_count": null,
   "metadata": {},
   "outputs": [],
   "source": [
    "for i in range(test_small):\n",
    "    x_test_new[i, :, :] = transform(x_test[i, :, :], size=size)\n",
    "x_test = None\n",
    "    \n",
    "# np.savez('data/test',x=x_test_new,y=y_test)\n",
    "np.savez('data/test_small',x=x_test_new[:test_small],y=y_test[:test_small])\n",
    "x_test_new = None\n",
    "y_test = None"
   ]
  }
 ],
 "metadata": {
  "kernelspec": {
   "display_name": "Python 3",
   "language": "python",
   "name": "python3"
  },
  "language_info": {
   "codemirror_mode": {
    "name": "ipython",
    "version": 3
   },
   "file_extension": ".py",
   "mimetype": "text/x-python",
   "name": "python",
   "nbconvert_exporter": "python",
   "pygments_lexer": "ipython3",
   "version": "3.6.4"
  }
 },
 "nbformat": 4,
 "nbformat_minor": 2
}
