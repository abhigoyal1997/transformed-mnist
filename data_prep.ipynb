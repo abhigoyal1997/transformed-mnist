{
 "cells": [
  {
   "cell_type": "code",
   "execution_count": 43,
   "metadata": {},
   "outputs": [],
   "source": [
    "import numpy as np\n",
    "import pandas as pd\n",
    "import matplotlib.pyplot as plt\n",
    "import cv2 as cv\n",
    "\n",
    "import os"
   ]
  },
  {
   "cell_type": "code",
   "execution_count": 19,
   "metadata": {},
   "outputs": [],
   "source": [
    "def imshow(img, title=None):\n",
    "    plt.imshow(img/(np.max(img)-np.min(img)))\n",
    "    if title is not None:\n",
    "        plt.title(title)\n",
    "    plt.show()"
   ]
  },
  {
   "cell_type": "code",
   "execution_count": 34,
   "metadata": {},
   "outputs": [],
   "source": [
    "def csv_to_npz(train_file, test_file, data_dir='data/'):\n",
    "    train_data = pd.read_csv(train_file)\n",
    "    test_data = pd.read_csv(test_file)\n",
    "\n",
    "    x_train = train_data.values[:,1:].reshape((-1,28,28))\n",
    "    y_train = np.asarray(train_data['label'])\n",
    "\n",
    "    x_test = test_data.values[:,:].reshape((-1,28,28))\n",
    "    \n",
    "    np.savez(os.path.join(data_dir,'train'),x=x_train,y=y_train)\n",
    "    np.savez(os.path.join(data_dir,'test'),x=x_test)"
   ]
  },
  {
   "cell_type": "code",
   "execution_count": 103,
   "metadata": {},
   "outputs": [],
   "source": [
    "def transform(x, size=(256, 256)):\n",
    "    x_new = np.zeros(size)\n",
    "    h = np.random.randint(x.shape[0]/2,x.shape[0]*2,1)\n",
    "    w = np.random.randint(x.shape[1]/2,x.shape[1]*2,1)\n",
    "    \n",
    "    x = cv.resize(x, (h,w))\n",
    "    l = np.random.randint(0, size[1]-w,1)\n",
    "    u = np.random.randint(0, size[0]-h,1)\n",
    "    \n",
    "    x_new[l[0]:l[0]+w[0], u[0]:u[0]+h[0]] = x\n",
    "    return x_new"
   ]
  },
  {
   "cell_type": "code",
   "execution_count": 35,
   "metadata": {},
   "outputs": [],
   "source": [
    "csv_to_npz('data/mnist/train.csv', 'data/mnist/test.csv')"
   ]
  },
  {
   "cell_type": "code",
   "execution_count": 36,
   "metadata": {},
   "outputs": [],
   "source": [
    "train_data = np.load('data/train.npz')\n",
    "test_data = np.load('data/test.npz')"
   ]
  },
  {
   "cell_type": "code",
   "execution_count": 108,
   "metadata": {},
   "outputs": [],
   "source": [
    "x_train = train_data['x'].astype(np.float)\n",
    "y_train = train_data['y']\n",
    "x_test = test_data['x'].astype(np.float)"
   ]
  },
  {
   "cell_type": "code",
   "execution_count": 109,
   "metadata": {},
   "outputs": [],
   "source": [
    "size = (256,256)\n",
    "x_train_new = np.empty((x_train.shape[0], *size))\n",
    "x_test_new = np.empty((x_test.shape[0], *size))"
   ]
  },
  {
   "cell_type": "code",
   "execution_count": 110,
   "metadata": {},
   "outputs": [],
   "source": [
    "for i in range(x_train.shape[0]):\n",
    "    x_train_new[i, :, :] = transform(x_train[i, :, :])"
   ]
  },
  {
   "cell_type": "code",
   "execution_count": 111,
   "metadata": {},
   "outputs": [],
   "source": [
    "for i in range(x_test.shape[0]):\n",
    "    x_test_new[i, :, :] = transform(x_test[i, :, :])"
   ]
  },
  {
   "cell_type": "code",
   "execution_count": 116,
   "metadata": {},
   "outputs": [],
   "source": [
    "np.savez('data/train',x=x_train_new,y=y_train)\n",
    "np.savez('data/test',x=x_test_new)"
   ]
  }
 ],
 "metadata": {
  "kernelspec": {
   "display_name": "Python 3",
   "language": "python",
   "name": "python3"
  },
  "language_info": {
   "codemirror_mode": {
    "name": "ipython",
    "version": 3
   },
   "file_extension": ".py",
   "mimetype": "text/x-python",
   "name": "python",
   "nbconvert_exporter": "python",
   "pygments_lexer": "ipython3",
   "version": "3.6.4"
  }
 },
 "nbformat": 4,
 "nbformat_minor": 2
}
